{
 "cells": [
  {
   "cell_type": "code",
   "execution_count": 2,
   "id": "66625b2e",
   "metadata": {},
   "outputs": [],
   "source": [
    "from typing import TypedDict, List\n",
    "from langgraph.graph import StateGraph, END\n",
    "from langchain_core.messages import HumanMessage\n",
    "from langchain_text_splitters import RecursiveCharacterTextSplitter\n",
    "from langchain_nvidia_ai_endpoints import ChatNVIDIA, NVIDIAEmbeddings\n",
    "from langchain_chroma import Chroma\n",
    "from langchain_community.document_loaders import PyPDFLoader\n",
    "import os\n"
   ]
  },
  {
   "cell_type": "code",
   "execution_count": null,
   "id": "895a58c6",
   "metadata": {},
   "outputs": [],
   "source": [
    "llm = ChatNVIDIA(\n",
    "    model=\"meta/llama3-70b-instruct\",\n",
    "    nvidia_api_key=\"NVIDIA_API_KEY\",\n",
    "    temperature=0.3\n",
    ")\n",
    "\n",
    "embedding = NVIDIAEmbeddings(\n",
    "    model=\"nvidia/nv-embedqa-e5-v5\",\n",
    "    model_type=\"passage\",\n",
    "    nvidia_api_key= \"NVIDIA_API_KEY\"\n",
    ")\n",
    "\n",
    "\n",
    "pdf_path = \"C:\\\\Users\\\\Akshar Savaliya\\\\Downloads\\\\Agentic_NN.pdf\"\n",
    "loader = PyPDFLoader(pdf_path)\n",
    "documents = RecursiveCharacterTextSplitter(chunk_size=500, chunk_overlap=100).split_documents(loader.load())\n",
    "vectorstore = Chroma.from_documents(documents, embedding, persist_directory=\"D:\\\\Corp8.AI\\\\Rag_Types\")"
   ]
  },
  {
   "cell_type": "code",
   "execution_count": 4,
   "id": "f59b4de5",
   "metadata": {},
   "outputs": [],
   "source": [
    "class GraphState(TypedDict):\n",
    "    question: str\n",
    "    retrieved_docs: List[dict]\n",
    "    graded_docs: List[dict]\n",
    "    answer: str\n",
    "    hallucination_verdict: str\n",
    "    answer_verdict: str\n",
    "    retry_count: int\n",
    "    force_end: bool\n",
    "    last_node: str "
   ]
  },
  {
   "cell_type": "code",
   "execution_count": 5,
   "id": "789c6700",
   "metadata": {},
   "outputs": [],
   "source": [
    "def retrieve(state: GraphState):\n",
    "    docs = vectorstore.similarity_search(state[\"question\"], k=4)\n",
    "    return {**state, \"retrieved_docs\": docs, \"last_node\": \"retrieve\"}\n",
    "\n",
    "def grade(state: GraphState):\n",
    "    for doc in state[\"retrieved_docs\"]:\n",
    "        content = doc.page_content.lower()\n",
    "        doc.metadata['score'] = 1.0 if any(k in content for k in [\"agentic\", \"ann\", \"backpropagation\"]) else 0.3\n",
    "    return {**state, \"graded_docs\": state[\"retrieved_docs\"], \"last_node\": \"grade\"}\n",
    "\n",
    "def check_docs_relevant(state: GraphState):\n",
    "    if not state[\"graded_docs\"]:\n",
    "        return \"rewrite\"\n",
    "    avg = sum(d.metadata['score'] for d in state[\"graded_docs\"]) / len(state[\"graded_docs\"])\n",
    "    return \"generate\" if avg >= 0.5 else \"rewrite\""
   ]
  },
  {
   "cell_type": "code",
   "execution_count": 6,
   "id": "54c81426",
   "metadata": {},
   "outputs": [],
   "source": [
    "def generate(state: GraphState):\n",
    "    context = \"\\n\".join([d.page_content for d in state[\"graded_docs\"]])\n",
    "    prompt = f\"\"\"You are an expert AI assistant. Answer using ONLY the context. Say \"I don't know\" if unsure.\n",
    "\n",
    "Context:\n",
    "{context}\n",
    "\n",
    "Question: {state['question']}\n",
    "\n",
    "Answer:\"\"\"\n",
    "    res = llm.invoke([HumanMessage(content=prompt)])\n",
    "    return {**state, \"answer\": res.content, \"last_node\": \"generate\"}\n",
    "\n",
    "def hallucination_check(state: GraphState):\n",
    "    context = \"\\n\".join([d.page_content for d in state[\"graded_docs\"]])\n",
    "    prompt = f\"\"\"Is this answer fully supported by the context? Reply only 'yes' or 'no'.\n",
    "\n",
    "Context:\n",
    "{context}\n",
    "Answer: {state['answer']}\n",
    "\n",
    "Verdict:\"\"\"\n",
    "    res = llm.invoke([HumanMessage(content=prompt)])\n",
    "    verdict = \"pass\" if \"yes\" in res.content.lower() else \"fail\"\n",
    "    return {**state, \"hallucination_verdict\": verdict, \"last_node\": \"hallucination_check\"}\n",
    "\n",
    "def check_answer_fits_question(state: GraphState):\n",
    "    prompt = f\"\"\"Does this answer fully address the question? Reply only 'yes' or 'no'.\n",
    "\n",
    "Question: {state['question']}\n",
    "Answer: {state['answer']}\n",
    "\n",
    "Verdict:\"\"\"\n",
    "    res = llm.invoke([HumanMessage(content=prompt)])\n",
    "    return {**state, \"answer_verdict\": \"final\" if \"yes\" in res.content.lower() else \"rewrite\", \"last_node\": \"check_answer\"}\n",
    "\n",
    "def rewrite_question(state: GraphState):\n",
    "    if state[\"retry_count\"] >= 1:\n",
    "        return {**state, \"answer_verdict\": \"final\", \"force_end\": True, \"last_node\": \"rewrite\"}\n",
    "\n",
    "    prompt = f\"Improve this question to be more specific and answerable:\\nOriginal: {state['question']}\\nImproved:\"\n",
    "    res = llm.invoke([HumanMessage(content=prompt)])\n",
    "    return {\n",
    "        **state,\n",
    "        \"question\": res.content.strip(),\n",
    "        \"retry_count\": state[\"retry_count\"] + 1,\n",
    "        \"force_end\": False,\n",
    "        \"last_node\": \"rewrite\"\n",
    "    }\n",
    "\n",
    "def check_retry_limit(state: GraphState):\n",
    "    return \"end\" if state[\"force_end\"] else \"retrieve\""
   ]
  },
  {
   "cell_type": "code",
   "execution_count": 7,
   "id": "2ebcc30c",
   "metadata": {},
   "outputs": [],
   "source": [
    "graph = StateGraph(GraphState)\n",
    "\n",
    "graph.add_node(\"retrieve\", retrieve)\n",
    "graph.add_node(\"grade\", grade)\n",
    "graph.add_node(\"generate\", generate)\n",
    "graph.add_node(\"rewrite\", rewrite_question)\n",
    "graph.add_node(\"hallucination_check\", hallucination_check)\n",
    "graph.add_node(\"check_answer\", check_answer_fits_question)\n",
    "\n",
    "graph.set_entry_point(\"retrieve\")\n",
    "\n",
    "graph.add_edge(\"retrieve\", \"grade\")\n",
    "graph.add_conditional_edges(\"grade\", check_docs_relevant, {\n",
    "    \"generate\": \"generate\",\n",
    "    \"rewrite\": \"rewrite\"\n",
    "})\n",
    "graph.add_edge(\"generate\", \"hallucination_check\")\n",
    "graph.add_conditional_edges(\"hallucination_check\", lambda s: s[\"hallucination_verdict\"], {\n",
    "    \"pass\": \"check_answer\",\n",
    "    \"fail\": \"rewrite\"\n",
    "})\n",
    "graph.add_conditional_edges(\"check_answer\", lambda s: s[\"answer_verdict\"], {\n",
    "    \"final\": END,\n",
    "    \"rewrite\": \"rewrite\"\n",
    "})\n",
    "graph.add_conditional_edges(\"rewrite\", lambda s: \"END\" if s[\"force_end\"] else \"retrieve\", {\n",
    "    \"END\": END,\n",
    "    \"retrieve\": \"retrieve\"\n",
    "})\n",
    "\n",
    "\n",
    "app = graph.compile()"
   ]
  },
  {
   "cell_type": "code",
   "execution_count": 8,
   "id": "b0e7f6b2",
   "metadata": {},
   "outputs": [
    {
     "data": {
      "image/png": "[encoded data removed]",
      "text/plain": [
       "<IPython.core.display.Image object>"
      ]
     },
     "metadata": {},
     "output_type": "display_data"
    }
   ],
   "source": [
    "from IPython.display import Image, display\n",
    "display(Image(app.get_graph().draw_mermaid_png()))"
   ]
  },
  {
   "cell_type": "code",
   "execution_count": 9,
   "id": "ac2eeebd",
   "metadata": {},
   "outputs": [
    {
     "name": "stdout",
     "output_type": "stream",
     "text": [
      "\n",
      "=== FINAL ANSWER ===\n",
      "Here's an explanation of Agentic Neural Networks (ANNs), including their architecture, applications, and how they differ from traditional neural networks:\n",
      "\n",
      "Architecture:\n",
      "The architecture of ANNs is inspired by traditional neural networks, where each layer consists of nodes represented by agents. These agents are connected in a sequence, facilitating seamless information flow from one layer to the next. This modular yet interconnected design enables efficient data processing, flexibility, and adaptability.\n",
      "\n",
      "The agents in ANNs are designed to work together, combining their outputs to produce the final result. This is achieved through dynamic routing and aggregation, where the optimal aggregation function is selected for each layer based on the input data.\n",
      "\n",
      "Applications:\n",
      "The applications of ANNs are not explicitly stated in the provided context. However, based on the architecture and design, it can be inferred that ANNs are suitable for complex data processing tasks that require adaptability, flexibility, and efficient information flow.\n",
      "\n",
      "Difference from traditional neural networks:\n",
      "The key difference between ANNs and traditional neural networks lies in their architecture and design. ANNs are composed of agents that work together, whereas traditional neural networks consist of fixed nodes with predetermined connections. This agent-based design enables ANNs to adapt to changing data and optimize their performance through dynamic routing and aggregation.\n",
      "\n",
      "In traditional neural networks, the architecture is typically fixed, and the nodes are connected in a predetermined manner. In contrast, ANNs have a more flexible and modular design, allowing them to reconfigure themselves based on the input data and optimization requirements.\n",
      "\n",
      "Overall, ANNs offer a novel approach to neural network design, enabling more efficient, adaptable, and flexible data processing.\n"
     ]
    }
   ],
   "source": [
    "\n",
    "initial_state = {\n",
    "    \"question\": \"What is Agentic Neural Networks?\",\n",
    "    \"retrieved_docs\": [],\n",
    "    \"graded_docs\": [],\n",
    "    \"answer\": \"\",\n",
    "    \"hallucination_verdict\": \"\",\n",
    "    \"answer_verdict\": \"\",\n",
    "    \"retry_count\": 0,\n",
    "    \"force_end\": False,\n",
    "    \"last_node\": \"\"\n",
    "}\n",
    "\n",
    "result = app.invoke(initial_state, config={\"recursion_limit\": 15})\n",
    "print(\"\\n=== FINAL ANSWER ===\")\n",
    "print(result[\"answer\"])"
   ]
  },
  {
   "cell_type": "code",
   "execution_count": null,
   "id": "3b35d571",
   "metadata": {},
   "outputs": [],
   "source": []
  }
 ],
 "metadata": {
  "kernelspec": {
   "display_name": "venv",
   "language": "python",
   "name": "python3"
  },
  "language_info": {
   "codemirror_mode": {
    "name": "ipython",
    "version": 3
   },
   "file_extension": ".py",
   "mimetype": "text/x-python",
   "name": "python",
   "nbconvert_exporter": "python",
   "pygments_lexer": "ipython3",
   "version": "3.12.6"
  }
 },
 "nbformat": 4,
 "nbformat_minor": 5
}
