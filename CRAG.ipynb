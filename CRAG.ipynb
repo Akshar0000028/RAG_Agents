{
 "cells": [
  {
   "cell_type": "code",
   "execution_count": 1,
   "id": "85e638dc",
   "metadata": {},
   "outputs": [],
   "source": [
    "from typing import TypedDict, Annotated, Sequence\n",
    "from langgraph.graph import StateGraph, END\n",
    "from langchain_core.messages import BaseMessage, HumanMessage\n",
    "from langchain_text_splitters import RecursiveCharacterTextSplitter\n",
    "from langchain_nvidia_ai_endpoints import ChatNVIDIA, NVIDIAEmbeddings\n",
    "from langchain_chroma import Chroma\n",
    "from langchain_community.document_loaders import PyPDFLoader\n",
    "from operator import add as add_message\n",
    "import os\n"
   ]
  },
  {
   "cell_type": "code",
   "execution_count": null,
   "id": "c5d9a2e2",
   "metadata": {},
   "outputs": [],
   "source": [
    "\n",
    "llm = ChatNVIDIA(\n",
    "    model=\"meta/llama3-70b-instruct\",\n",
    "    nvidia_api_key=\"NVIDIA_API_KEY\",\n",
    "    temperature=0.3\n",
    ")\n",
    "\n",
    "embedding = NVIDIAEmbeddings(\n",
    "    model=\"nvidia/nv-embedqa-e5-v5\",\n",
    "    model_type=\"passage\",\n",
    "    nvidia_api_key=\"NVIDIA_API_KEY\"\n",
    ")\n"
   ]
  },
  {
   "cell_type": "code",
   "execution_count": 14,
   "id": "6719990f",
   "metadata": {},
   "outputs": [
    {
     "name": "stdout",
     "output_type": "stream",
     "text": [
      "PDF loaded successfully with 27 pages\n",
      "PDF embedded and stored in Chroma.\n"
     ]
    }
   ],
   "source": [
    "pdf_path = \"C:\\\\Users\\\\Akshar Savaliya\\\\Downloads\\\\Agentic_NN.pdf\"\n",
    "if not os.path.exists(pdf_path):\n",
    "    raise FileNotFoundError(f\"File not found: {pdf_path}\")\n",
    "\n",
    "pdf_loader = PyPDFLoader(pdf_path)\n",
    "pages = pdf_loader.load()\n",
    "print(f\"PDF loaded successfully with {len(pages)} pages\")\n",
    "\n",
    "text_splitter = RecursiveCharacterTextSplitter(chunk_size=500, chunk_overlap=100)\n",
    "documents = text_splitter.split_documents(pages)\n",
    "\n",
    "vectorstore = Chroma.from_documents(documents, embedding)\n",
    "db = Chroma.from_documents(documents, embedding, persist_directory=\"D:\\\\Corp8.AI\\\\Rag_Types\")\n",
    "print(\"PDF embedded and stored in Chroma.\")"
   ]
  },
  {
   "cell_type": "code",
   "execution_count": 15,
   "id": "d520bd87",
   "metadata": {},
   "outputs": [],
   "source": [
    "def retrieve_node(state):\n",
    "    query = state[\"question\"]\n",
    "    retrieved_docs = db.similarity_search(query, k=4)\n",
    "    return {\"retrieved_docs\": retrieved_docs}\n",
    "\n",
    "def grade_node(state):\n",
    "    graded = []\n",
    "    for doc in state[\"retrieved_docs\"]:\n",
    "        score = 1.0 if \"Agentic\" in doc.page_content or \"ANN\" in doc.page_content else 0.3\n",
    "        doc.metadata[\"score\"] = score\n",
    "        graded.append(doc)\n",
    "    return {\"graded_docs\": graded}"
   ]
  },
  {
   "cell_type": "code",
   "execution_count": 24,
   "id": "7cf0c49c",
   "metadata": {},
   "outputs": [],
   "source": [
    "\n",
    "def condition_check(state):\n",
    "    if any(doc.metadata[\"score\"] < 0.5 for doc in state[\"graded_docs\"]):\n",
    "        return \"web_search\"\n",
    "    return \"generate\"\n",
    "\n",
    "def web_search_node(state):\n",
    "    # Fake external knowledge\n",
    "    web_doc = type(\"Doc\", (), {})()\n",
    "    web_doc.page_content = \"Textual backpropagation helps ANN improve coordination dynamically.\"\n",
    "    web_doc.metadata = {\"score\": 1.0}\n",
    "    return {\"graded_docs\": state[\"graded_docs\"] + [web_doc]}\n",
    "\n",
    "def generate_node(state):\n",
    "    context = \"\\n\\n\".join([doc.page_content for doc in state[\"graded_docs\"]])\n",
    "    llm = ChatNVIDIA(\n",
    "    model=\"meta/llama3-70b-instruct\",\n",
    "    nvidia_api_key=\"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\",\n",
    "    temperature=0.3\n",
    ")\n",
    "    prompt = f\"Answer the question based on the following context:\\n\\n{context}\\n\\nQuestion: {state['question']}\"\n",
    "    response = llm.invoke(prompt)\n",
    "    return {\"final_answer\": response.content}"
   ]
  },
  {
   "cell_type": "code",
   "execution_count": 25,
   "id": "cf64d1e7",
   "metadata": {},
   "outputs": [],
   "source": [
    "class AgentState(TypedDict):\n",
    "    question: str\n",
    "    retrieved_docs: list\n",
    "    graded_docs: list\n",
    "    final_answer: str\n",
    "\n",
    "initial_state = AgentState\n",
    "\n",
    "graph = StateGraph(initial_state)\n",
    "\n",
    "# Nodes\n",
    "graph.add_node(\"retrieve\", retrieve_node)\n",
    "graph.add_node(\"grade_documents\", grade_node)\n",
    "graph.add_node(\"web_search\", web_search_node)\n",
    "graph.add_node(\"generate\", generate_node)\n",
    "\n",
    "# Edges\n",
    "graph.set_entry_point(\"retrieve\")\n",
    "graph.add_edge(\"retrieve\", \"grade_documents\")\n",
    "graph.add_conditional_edges(\"grade_documents\", condition_check, {\n",
    "    \"web_search\": \"web_search\",\n",
    "    \"generate\": \"generate\"\n",
    "})\n",
    "graph.add_edge(\"web_search\", \"generate\")\n",
    "graph.add_edge(\"generate\", END)\n",
    "\n",
    "# Step 4: Compile & Run\n",
    "\n",
    "corrective_rag = graph.compile()"
   ]
  },
  {
   "cell_type": "code",
   "execution_count": 26,
   "id": "e9b10f1d",
   "metadata": {},
   "outputs": [
    {
     "data": {
      "image/png": "[encoded data removed]",
      "text/plain": [
       "<IPython.core.display.Image object>"
      ]
     },
     "metadata": {},
     "output_type": "display_data"
    }
   ],
   "source": [
    "from IPython.display import Image, display\n",
    "display(Image(corrective_rag.get_graph().draw_mermaid_png()))"
   ]
  },
  {
   "cell_type": "code",
   "execution_count": 27,
   "id": "f5d0cf7f",
   "metadata": {},
   "outputs": [
    {
     "name": "stdout",
     "output_type": "stream",
     "text": [
      "\n",
      "Answer:\n",
      " According to the context, textual backpropagation in Agentic Neural Networks refers to the process of backpropagating textual feedback to isolate errors and propose targeted adjustments. These textual critiques act like gradient signals, guiding prompt updates and connection refinements.\n"
     ]
    }
   ],
   "source": [
    "result = corrective_rag.invoke({\n",
    "    \"question\": \"What is textual backpropagation in Agentic Neural Networks?\"\n",
    "})\n",
    "\n",
    "print(\"\\nAnswer:\\n\", result[\"final_answer\"])"
   ]
  },
  {
   "cell_type": "code",
   "execution_count": null,
   "id": "2f17df6e",
   "metadata": {},
   "outputs": [],
   "source": []
  }
 ],
 "metadata": {
  "kernelspec": {
   "display_name": "venv",
   "language": "python",
   "name": "python3"
  },
  "language_info": {
   "codemirror_mode": {
    "name": "ipython",
    "version": 3
   },
   "file_extension": ".py",
   "mimetype": "text/x-python",
   "name": "python",
   "nbconvert_exporter": "python",
   "pygments_lexer": "ipython3",
   "version": "3.12.6"
  }
 },
 "nbformat": 4,
 "nbformat_minor": 5
}
