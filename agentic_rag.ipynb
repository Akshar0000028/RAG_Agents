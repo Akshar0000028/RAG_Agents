{
 "cells": [
  {
   "cell_type": "code",
   "execution_count": 3,
   "id": "c927e295",
   "metadata": {},
   "outputs": [],
   "source": [
    "from langchain_community.document_loaders import PyPDFLoader\n",
    "from langchain.text_splitter import RecursiveCharacterTextSplitter\n",
    "from langchain_chroma import Chroma\n",
    "from langchain_nvidia_ai_endpoints import ChatNVIDIA, NVIDIAEmbeddings\n",
    "from langgraph.graph import StateGraph, END\n",
    "from typing import TypedDict, Optional\n",
    "from langchain.schema import HumanMessage\n",
    "import os\n"
   ]
  },
  {
   "cell_type": "code",
   "execution_count": null,
   "id": "e4e2790b",
   "metadata": {},
   "outputs": [],
   "source": [
    "\n",
    "llm = ChatNVIDIA(\n",
    "    model=\"meta/llama3-70b-instruct\",\n",
    "    nvidia_api_key=\"NVIDIA_API_KEY\",\n",
    "    temperature=0.3\n",
    ")\n",
    "\n",
    "embedding = NVIDIAEmbeddings(\n",
    "    model=\"nvidia/nv-embedqa-e5-v5\",\n",
    "    model_type=\"passage\",\n",
    "    nvidia_api_key=\"NVIDIA_API_KEY\"\n",
    ")"
   ]
  },
  {
   "cell_type": "code",
   "execution_count": 5,
   "id": "2af6ede9",
   "metadata": {},
   "outputs": [
    {
     "name": "stdout",
     "output_type": "stream",
     "text": [
      "PDF loaded successfully with 27 pages\n",
      "PDF embedded and stored in Chroma.\n"
     ]
    }
   ],
   "source": [
    "pdf_path = \"C:\\\\Users\\\\Akshar Savaliya\\\\Downloads\\\\Agentic_NN.pdf\"\n",
    "if not os.path.exists(pdf_path):\n",
    "    raise FileNotFoundError(f\"File not found: {pdf_path}\")\n",
    "\n",
    "pdf_loader = PyPDFLoader(pdf_path)\n",
    "pages = pdf_loader.load()\n",
    "print(f\"PDF loaded successfully with {len(pages)} pages\")\n",
    "\n",
    "text_splitter = RecursiveCharacterTextSplitter(chunk_size=500, chunk_overlap=100)\n",
    "documents = text_splitter.split_documents(pages)\n",
    "\n",
    "vectorstore = Chroma.from_documents(documents, embedding)\n",
    "print(\"PDF embedded and stored in Chroma.\")"
   ]
  },
  {
   "cell_type": "code",
   "execution_count": 6,
   "id": "02acdba7",
   "metadata": {},
   "outputs": [],
   "source": [
    "class AgentState(TypedDict):\n",
    "    input: str\n",
    "    vector_data: Optional[str]\n",
    "    rewritten_query: Optional[str]\n",
    "    feedback: Optional[str]\n",
    "    final_output: Optional[str]\n",
    "\n",
    "def agent_node(state: AgentState) -> AgentState:\n",
    "    print(\"Agent: Starting with input...\")\n",
    "    return state\n",
    "\n",
    "def retrieval_node(state: AgentState) -> AgentState:\n",
    "    print(\"Retriever: Searching ChromaDB...\")\n",
    "    docs = vectorstore.similarity_search(state[\"input\"], k=3)\n",
    "    content = \"\\n\".join(doc.page_content for doc in docs)\n",
    "    state[\"vector_data\"] = content\n",
    "    return state\n",
    "\n",
    "def rewrite_node(state: AgentState) -> AgentState:\n",
    "    print(\"Rewriter: Improving the query...\")\n",
    "    prompt = f\"Rewrite the following query to improve document retrieval:\\n\\n{state['input']}\"\n",
    "    response = llm.invoke([HumanMessage(content=prompt)])\n",
    "    state[\"rewritten_query\"] = response.content\n",
    "    state[\"input\"] = response.content  \n",
    "    return state\n",
    "\n",
    "def generate_node(state: AgentState) -> AgentState:\n",
    "    print(\" Generator: Generating answer from retrieved context...\")\n",
    "    prompt = f\"\"\"Use the following context to answer the question.\n",
    "\n",
    "    Context:\n",
    "{state.get(\"vector_data\", \"\")}\n",
    "\n",
    "Question:\n",
    "{state['input']}\n",
    "\"\"\"\n",
    "    response = llm.invoke([HumanMessage(content=prompt)])\n",
    "    state[\"final_output\"] = response.content\n",
    "    return state\n",
    "\n",
    "def feedback_node(state: AgentState) -> AgentState:\n",
    "    print(\"Feedback: Critiquing the generated answer...\")\n",
    "    response = llm.invoke([\n",
    "        HumanMessage(content=f\"Provide feedback on this answer:\\n\\n{state['final_output']}\")\n",
    "    ])\n",
    "    state[\"feedback\"] = response.content\n",
    "    return state\n",
    "\n",
    "\n",
    "def check_vector_quality(state: AgentState) -> str:\n",
    "    return \"yes\" if state.get(\"vector_data\") else \"no\"\n"
   ]
  },
  {
   "cell_type": "code",
   "execution_count": 7,
   "id": "7c44819b",
   "metadata": {},
   "outputs": [],
   "source": [
    "builder = StateGraph(AgentState)\n",
    "\n",
    "builder.add_node(\"agent\", agent_node)\n",
    "builder.add_node(\"retrieval\", retrieval_node)\n",
    "builder.add_node(\"rewrite\", rewrite_node)\n",
    "builder.add_node(\"generate\", generate_node)\n",
    "builder.add_node(\"feedback_node\", feedback_node)  \n",
    "\n",
    "builder.add_edge(\"agent\", \"retrieval\")\n",
    "\n",
    "builder.add_conditional_edges(\"retrieval\", check_vector_quality, {\n",
    "    \"yes\": \"generate\",\n",
    "    \"no\": \"rewrite\"\n",
    "})\n",
    "\n",
    "builder.add_edge(\"rewrite\", \"retrieval\")\n",
    "builder.add_edge(\"generate\", \"feedback_node\")\n",
    "builder.add_edge(\"feedback_node\", END)\n",
    "\n",
    "builder.set_entry_point(\"agent\")\n",
    "graph = builder.compile()"
   ]
  },
  {
   "cell_type": "code",
   "execution_count": 8,
   "id": "500935b0",
   "metadata": {},
   "outputs": [
    {
     "data": {
      "image/png": "[encoded data removed]",
      "text/plain": [
       "<IPython.core.display.Image object>"
      ]
     },
     "metadata": {},
     "output_type": "display_data"
    }
   ],
   "source": [
    "from IPython.display import Image, display\n",
    "display(Image(graph.get_graph().draw_mermaid_png()))"
   ]
  },
  {
   "cell_type": "code",
   "execution_count": 9,
   "id": "87f5143e",
   "metadata": {},
   "outputs": [
    {
     "name": "stdout",
     "output_type": "stream",
     "text": [
      "Agent: Starting with input...\n",
      "Retriever: Searching ChromaDB...\n",
      " Generator: Generating answer from retrieved context...\n",
      "Feedback: Critiquing the generated answer...\n",
      "\n",
      "Final Answer:\n",
      " Based on the provided context, the components of the Agentic Neural Network (ANN) framework are not explicitly listed. However, we can infer some components from the description:\n",
      "\n",
      "1. **Dynamic selection mechanisms**: These are used to construct task-specific agent teams during the forward phase.\n",
      "2. **Layer-wise optimization**: This is implied by the description of the framework adapting principles from classic neural networks, which use layer-wise optimization.\n",
      "3. **Agent teams**: These are the multi-agent pipelines that are dynamically selected and refined layer by layer.\n",
      "4. **Refinement mechanisms**: These are used to refine the agent teams if the performance does not meet expectations.\n",
      "\n",
      "It is likely that the ANN framework also includes other components, such as learnable weights and numeric optimizers, similar to those found in classic neural networks. However, these are not explicitly mentioned in the provided context.\n",
      "\n",
      "Feedback:\n",
      " Here's my feedback on the answer:\n",
      "\n",
      "**Strengths:**\n",
      "\n",
      "1. The answer is well-structured and easy to follow, with clear headings and concise descriptions.\n",
      "2. The writer has made a good effort to infer the components of the Agentic Neural Network (ANN) framework based on the provided context.\n",
      "3. The answer is written in a clear and concise manner, making it easy to understand.\n",
      "\n",
      "**Weaknesses:**\n",
      "\n",
      "1. The answer could benefit from more specific examples or illustrations to help explain each component. For instance, what do \"dynamic selection mechanisms\" entail? How do they work?\n",
      "2. While the writer has made an educated guess about the components, they could have been more explicit about the limitations of their answer. For example, they could have stated that their inferences are based on their understanding of the context and may not be exhaustive or entirely accurate.\n",
      "3. The last sentence about \"learnable weights and numeric optimizers\" feels a bit like an afterthought. If the writer is going to mention these components, they could have integrated them more seamlessly into the rest of the answer.\n",
      "\n",
      "**Suggestions:**\n",
      "\n",
      "1. Consider adding more concrete examples or analogies to help illustrate each component.\n",
      "2. Be more explicit about the limitations of your answer and the assumptions you've made based on the context.\n",
      "3. Integrate any additional components you mention more smoothly into the rest of the answer.\n",
      "\n",
      "Overall, the answer is well-written and demonstrates a good understanding of the context. With a few tweaks, it could be even stronger!\n"
     ]
    }
   ],
   "source": [
    "\n",
    "if __name__ == \"__main__\":\n",
    "    query = \"What are the components of the Agentic Neural Network framework?\"\n",
    "    result = graph.invoke({\"input\": query})\n",
    "\n",
    "    print(\"\\nFinal Answer:\\n\", result[\"final_output\"])\n",
    "    print(\"\\nFeedback:\\n\", result[\"feedback\"])"
   ]
  },
  {
   "cell_type": "code",
   "execution_count": null,
   "id": "29c8f713",
   "metadata": {},
   "outputs": [],
   "source": []
  },
  {
   "cell_type": "code",
   "execution_count": null,
   "id": "580d4005",
   "metadata": {},
   "outputs": [],
   "source": []
  },
  {
   "cell_type": "code",
   "execution_count": null,
   "id": "13a6c622",
   "metadata": {},
   "outputs": [],
   "source": []
  }
 ],
 "metadata": {
  "kernelspec": {
   "display_name": "venv",
   "language": "python",
   "name": "python3"
  },
  "language_info": {
   "codemirror_mode": {
    "name": "ipython",
    "version": 3
   },
   "file_extension": ".py",
   "mimetype": "text/x-python",
   "name": "python",
   "nbconvert_exporter": "python",
   "pygments_lexer": "ipython3",
   "version": "3.12.6"
  }
 },
 "nbformat": 4,
 "nbformat_minor": 5
}
